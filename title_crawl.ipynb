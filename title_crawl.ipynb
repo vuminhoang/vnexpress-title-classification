{
  "nbformat": 4,
  "nbformat_minor": 0,
  "metadata": {
    "colab": {
      "provenance": []
    },
    "kernelspec": {
      "name": "python3",
      "display_name": "Python 3"
    },
    "language_info": {
      "name": "python"
    }
  },
  "cells": [
    {
      "cell_type": "code",
      "execution_count": null,
      "metadata": {
        "colab": {
          "base_uri": "https://localhost:8080/"
        },
        "id": "c0LZABm2at2b",
        "outputId": "65f53e81-57e6-47c5-d735-c2bc955dd4e5"
      },
      "outputs": [
        {
          "output_type": "stream",
          "name": "stdout",
          "text": [
            "Nga phủ nhận nhắm mục tiêu đoàn xe của Tổng thống Ukraine\n",
            "Trưởng ban quản trị chung cư bị bắt vì 'ăn chặn' tiền lắp thang máy\n",
            "Được tạm sử dụng rừng để thi công đường dây 500 kV mạch 3 ra Bắc\n",
            "Huế miễn vé tham quan cho nữ du khách mặc áo dài\n",
            "Những điều cần biết về di chúc - thừa kế để tránh 'gia đình bất hòa'\n",
            "Vào viện dưỡng lão để cởi trói chữ hiếu\n",
            "Bạn trai không chịu tiết lộ số tiền nợ của gia đình anh\n",
            "Bí ẩn về mực khổng lồ Nam Cực\n",
            "Toàn quyền Australia lái xe điện chở Thủ tướng Phạm Minh Chính tham quan phủ\n",
            "Hàng loạt cựu lãnh đạo SCB khai 'nghỉ việc vì không làm theo chỉ đạo sai'\n",
            "Ông Putin tiết lộ hậu trường chuyến bay ngẫu hứng trên oanh tạc cơ\n",
            "Việt Nam cực lực lên án hành vi tấn công tàu hàng\n",
            "'Dune 2' - cuộc chiến giành quyền lực\n",
            "Vua nhà Nguyễn nào nổi tiếng với tài vẽ tranh?\n",
            "Cựu phó chủ tịch huyện ở Lâm Đồng bị bắt\n",
            "Kẻ chích điện tra tấn nữ tiếp viên karaoke bị bắt\n",
            "Ông Trương Gia Bình: 'Thế giới chọn chúng ta làm chip'\n",
            "Việt Nam là nhà sản xuất đồ nội thất lớn thứ 6 thế giới\n",
            "Một thập kỷ chờ đợi vô vọng của thân nhân hành khách MH370\n",
            "Xếp hàng 2-3 tiếng chờ mua hoa 8/3\n",
            "Hai nhà khoa học nữ thắng giải Kovalevskaia 2023\n",
            "Lisa Su - nữ tỷ phú đầu tiên của ngành bán dẫn\n",
            "'Mua chung cư nội đô hơn nhà mặt đất ngoại thành'\n",
            "Vợ trách tôi không có tiền mua quà tặng cô ấy\n",
            "Những phụ nữ tự mua hoa tặng mình\n",
            "Ngại đến viện khám, nhiều người mắc sùi mào gà nặng\n",
            "Làm gì khi trẻ mộng du?\n",
            "Thủ tướng: Nghiên cứu giải thưởng khoa học cho người Việt ở nước ngoài\n",
            "Nga triệu đại sứ Mỹ\n",
            "Hai tai nạn liên hoàn, cao tốc Trung Lương kẹt 10 km\n"
          ]
        }
      ],
      "source": [
        "import requests\n",
        "from bs4 import BeautifulSoup\n",
        "\n",
        "def crawl_vnexpress_title(url):\n",
        "    response = requests.get(url)\n",
        "    if response.status_code == 200:\n",
        "        soup = BeautifulSoup(response.content, 'html.parser')\n",
        "        headlines = [title.text.strip() for title in soup.find_all('h3', class_='title-news')]\n",
        "        return headlines\n",
        "    else:\n",
        "        print(\"Không thể truy cập trang web!\")\n",
        "        return []\n",
        "\n",
        "url = 'https://vnexpress.net/tin-tuc-24h'\n",
        "headlines = crawl_vnexpress_title(url)\n",
        "print(*headlines, sep='\\n')"
      ]
    },
    {
      "cell_type": "code",
      "source": [
        "import string\n",
        "\n",
        "def processing(text):\n",
        "    for char in string.punctuation:\n",
        "        text = text.replace(char, '')\n",
        "    return text\n",
        "\n"
      ],
      "metadata": {
        "id": "BFT0RSNmb-lt"
      },
      "execution_count": null,
      "outputs": []
    },
    {
      "cell_type": "code",
      "source": [
        "titles = []\n",
        "for i in headlines:\n",
        "  titles.append(processing(i))"
      ],
      "metadata": {
        "id": "JCFMURindRKR"
      },
      "execution_count": null,
      "outputs": []
    },
    {
      "cell_type": "code",
      "source": [
        "titles"
      ],
      "metadata": {
        "colab": {
          "base_uri": "https://localhost:8080/"
        },
        "id": "fT4OSqdqdbnk",
        "outputId": "23f940d5-9093-4e72-b641-d853c3bf06cb"
      },
      "execution_count": null,
      "outputs": [
        {
          "output_type": "execute_result",
          "data": {
            "text/plain": [
              "['Nga phủ nhận nhắm mục tiêu đoàn xe của Tổng thống Ukraine',\n",
              " 'Trưởng ban quản trị chung cư bị bắt vì ăn chặn tiền lắp thang máy',\n",
              " 'Được tạm sử dụng rừng để thi công đường dây 500 kV mạch 3 ra Bắc',\n",
              " 'Huế miễn vé tham quan cho nữ du khách mặc áo dài',\n",
              " 'Những điều cần biết về di chúc  thừa kế để tránh gia đình bất hòa',\n",
              " 'Vào viện dưỡng lão để cởi trói chữ hiếu',\n",
              " 'Bạn trai không chịu tiết lộ số tiền nợ của gia đình anh',\n",
              " 'Bí ẩn về mực khổng lồ Nam Cực',\n",
              " 'Toàn quyền Australia lái xe điện chở Thủ tướng Phạm Minh Chính tham quan phủ',\n",
              " 'Hàng loạt cựu lãnh đạo SCB khai nghỉ việc vì không làm theo chỉ đạo sai',\n",
              " 'Ông Putin tiết lộ hậu trường chuyến bay ngẫu hứng trên oanh tạc cơ',\n",
              " 'Việt Nam cực lực lên án hành vi tấn công tàu hàng',\n",
              " 'Dune 2  cuộc chiến giành quyền lực',\n",
              " 'Vua nhà Nguyễn nào nổi tiếng với tài vẽ tranh',\n",
              " 'Cựu phó chủ tịch huyện ở Lâm Đồng bị bắt',\n",
              " 'Kẻ chích điện tra tấn nữ tiếp viên karaoke bị bắt',\n",
              " 'Ông Trương Gia Bình Thế giới chọn chúng ta làm chip',\n",
              " 'Việt Nam là nhà sản xuất đồ nội thất lớn thứ 6 thế giới',\n",
              " 'Một thập kỷ chờ đợi vô vọng của thân nhân hành khách MH370',\n",
              " 'Xếp hàng 23 tiếng chờ mua hoa 83',\n",
              " 'Hai nhà khoa học nữ thắng giải Kovalevskaia 2023',\n",
              " 'Lisa Su  nữ tỷ phú đầu tiên của ngành bán dẫn',\n",
              " 'Mua chung cư nội đô hơn nhà mặt đất ngoại thành',\n",
              " 'Vợ trách tôi không có tiền mua quà tặng cô ấy',\n",
              " 'Những phụ nữ tự mua hoa tặng mình',\n",
              " 'Ngại đến viện khám nhiều người mắc sùi mào gà nặng',\n",
              " 'Làm gì khi trẻ mộng du',\n",
              " 'Thủ tướng Nghiên cứu giải thưởng khoa học cho người Việt ở nước ngoài',\n",
              " 'Nga triệu đại sứ Mỹ',\n",
              " 'Hai tai nạn liên hoàn cao tốc Trung Lương kẹt 10 km']"
            ]
          },
          "metadata": {},
          "execution_count": 17
        }
      ]
    },
    {
      "cell_type": "code",
      "source": [],
      "metadata": {
        "id": "Oh1_NBsceL4-"
      },
      "execution_count": null,
      "outputs": []
    }
  ]
}